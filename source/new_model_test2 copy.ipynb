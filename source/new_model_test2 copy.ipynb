version https://git-lfs.github.com/spec/v1
oid sha256:af167409f142d3113130034eb9a9b1d0b5ca6856f85d8a7b01d5738cff9cd822
size 16135
